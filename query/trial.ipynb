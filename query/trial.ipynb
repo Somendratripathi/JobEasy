{
 "cells": [
  {
   "cell_type": "code",
   "execution_count": 5,
   "metadata": {},
   "outputs": [],
   "source": [
    "import pymysql\n",
    "connection = pymysql.connect(host='127.0.0.1',\n",
    "                             user='root',\n",
    "                             password='jobeasy',\n",
    "                             db='h1b')"
   ]
  },
  {
   "cell_type": "code",
   "execution_count": 59,
   "metadata": {},
   "outputs": [
    {
     "name": "stdout",
     "output_type": "stream",
     "text": [
      "('h1b_2019',)\n"
     ]
    }
   ],
   "source": [
    "# Create a cursor object\n",
    "cursorObject = connection.cursor()\n",
    "# SQL string to create a MySQL table\n",
    "sqlCreateTableCommand= '''CREATE TABLE h1b_2019(\n",
    "case_number int, \n",
    "case_status varchar(128), \n",
    "case_submitted date, \n",
    "decision_date date,\n",
    "visa_class varchar(32),\n",
    "employment_start_date date,\n",
    "employment_end_date date,\n",
    "employer_name varchar(1024),\n",
    "employer_business_dba varchar(256),\n",
    "employer_address varchar(2048),\n",
    "employer_city varchar(128),\n",
    "employer_state varchar(3),\n",
    "employer_country varchar(32),\n",
    "employer_province varchar(128),\n",
    "employer_phone varchar(16),\n",
    "employer_phone_ext int,\n",
    "agent_representing_employer varchar(2),\n",
    "agent_attorney_name varchar(1024),\n",
    "agent_attorney_city varchar(32),\n",
    "agent_attorney_state varchar(4),\n",
    "job_title varchar(128),\n",
    "soc_code varchar(128),\n",
    "soc_name varchar(256),\n",
    "naics_code int,\n",
    "total_workers int,\n",
    "new_employment int,\n",
    "continued_employment int,\n",
    "change_previous_employment int,\n",
    "new_concurrent_emp int,\n",
    "change_employer int,\n",
    "amended_petition int,\n",
    "full_time_position varchar(2),\n",
    "prevailing_wage decimal(30, 5),\n",
    "pw_unit_of_pay varchar(32),\n",
    "pw_wage_level varchar(16),\n",
    "pw_source varchar(8),\n",
    "pw_source_year int,\n",
    "pw_source_other varchar(256),\n",
    "wage_rate_of_pay_from decimal(15, 3),\n",
    "wage_rate_of_pay_to decimal(15, 3),\n",
    "wage_unit_of_pay varchar(16),\n",
    "h1b_dependent varchar(2),\n",
    "willful_violator varchar(2),\n",
    "support_h1b varchar(4),\n",
    "labor_con_agree varchar(2),\n",
    "public_disclosure_location varchar(4),\n",
    "worksite_city varchar(32),\n",
    "worksite_county varchar(32),\n",
    "worksite_state varchar(4),\n",
    "worksite_postal_code varchar(32),\n",
    "original_cert_date date)\n",
    "'''\n",
    "# Execute the sqlQuery\n",
    "cursorObject.execute(sqlCreateTableCommand)\n",
    "\n",
    "# List the tables using SQL command\n",
    "sqlShowTablesCommand= \"show tables\"\n",
    "# Execute the SQL command\n",
    "cursorObject.execute(sqlShowTablesCommand)\n",
    "\n",
    "#Fetch all the rows - from the command output\n",
    "rows= cursorObject.fetchall()\n",
    "for row in rows:\n",
    "    print(row)"
   ]
  },
  {
   "cell_type": "code",
   "execution_count": 9,
   "metadata": {},
   "outputs": [],
   "source": [
    "# Create a cursor object\n",
    "cursorObject = connection.cursor()\n",
    "# List the tables using SQL command\n",
    "sqlShowTablesCommand= \"show tables\"\n",
    "# Execute the SQL command\n",
    "cursorObject.execute(sqlShowTablesCommand)\n",
    "\n",
    "#Fetch all the rows - from the command output\n",
    "rows= cursorObject.fetchall()\n",
    "for row in rows:\n",
    "    print(row)"
   ]
  },
  {
   "cell_type": "code",
   "execution_count": 12,
   "metadata": {},
   "outputs": [
    {
     "data": {
      "text/plain": [
       "0"
      ]
     },
     "execution_count": 12,
     "metadata": {},
     "output_type": "execute_result"
    }
   ],
   "source": [
    "# Create a cursor object\n",
    "cursorObject = connection.cursor()\n",
    "# List the tables using SQL command\n",
    "sqlShowTablesCommand= \"drop table H1B_2019\"\n",
    "# Execute the SQL command\n",
    "cursorObject.execute(sqlShowTablesCommand)"
   ]
  },
  {
   "cell_type": "code",
   "execution_count": null,
   "metadata": {},
   "outputs": [],
   "source": []
  }
 ],
 "metadata": {
  "kernelspec": {
   "display_name": "Python 3",
   "language": "python",
   "name": "python3"
  },
  "language_info": {
   "codemirror_mode": {
    "name": "ipython",
    "version": 3
   },
   "file_extension": ".py",
   "mimetype": "text/x-python",
   "name": "python",
   "nbconvert_exporter": "python",
   "pygments_lexer": "ipython3",
   "version": "3.6.8"
  }
 },
 "nbformat": 4,
 "nbformat_minor": 2
}
